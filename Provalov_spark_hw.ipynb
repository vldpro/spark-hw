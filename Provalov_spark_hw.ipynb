{
 "cells": [
  {
   "cell_type": "markdown",
   "metadata": {},
   "source": [
    "### Spark home-work "
   ]
  },
  {
   "cell_type": "markdown",
   "metadata": {},
   "source": [
    "#### Installing requiered dependencies and import"
   ]
  },
  {
   "cell_type": "code",
   "execution_count": 16,
   "metadata": {},
   "outputs": [
    {
     "name": "stdout",
     "output_type": "stream",
     "text": [
      "Requirement already satisfied: emoji in /opt/conda/lib/python3.7/site-packages (0.5.4)\r\n"
     ]
    }
   ],
   "source": [
    "!pip install emoji"
   ]
  },
  {
   "cell_type": "code",
   "execution_count": 17,
   "metadata": {},
   "outputs": [],
   "source": [
    "import pyspark \n",
    "from pyspark.sql import SparkSession\n",
    "from pyspark.sql.functions import *\n",
    "from pyspark.sql.types import ArrayType, StringType\n",
    "from pyspark import broadcast\n",
    "import emoji"
   ]
  },
  {
   "cell_type": "code",
   "execution_count": 18,
   "metadata": {},
   "outputs": [],
   "source": [
    "spark = SparkSession.builder.master('local[*]').appName('Spark-HW').getOrCreate()"
   ]
  },
  {
   "cell_type": "markdown",
   "metadata": {},
   "source": [
    "#### Data uploading"
   ]
  },
  {
   "cell_type": "code",
   "execution_count": 19,
   "metadata": {},
   "outputs": [],
   "source": [
    "posts = spark.read.json('./bigdata20/posts_api.json')\n",
    "posts.createOrReplaceTempView(\"posts\")\n",
    "\n",
    "posts_likes = spark.read.parquet('./bigdata20/posts_likes.parquet')\n",
    "posts_likes.createOrReplaceTempView(\"posts_likes\")"
   ]
  },
  {
   "cell_type": "code",
   "execution_count": 20,
   "metadata": {},
   "outputs": [],
   "source": [
    "followers = spark.read.parquet('./bigdata20/followers.parquet')\n",
    "followers.createOrReplaceTempView(\"followers\")\n",
    "\n",
    "followers_posts = spark.read.json('./bigdata20/followers_posts_api_final.json')\n",
    "followers_posts.createOrReplaceTempView(\"followers_posts\")\n",
    "\n",
    "followers_posts_likes = spark.read.parquet('./bigdata20/followers_posts_likes.parquet')\n",
    "followers_posts_likes.createOrReplaceTempView(\"followers_posts_likes\")"
   ]
  },
  {
   "cell_type": "markdown",
   "metadata": {},
   "source": [
    "#### JSON saver"
   ]
  },
  {
   "cell_type": "code",
   "execution_count": 21,
   "metadata": {},
   "outputs": [],
   "source": [
    "def write_to_json(file, task):\n",
    "    file.write.json('./'+task+'/'+str(file))"
   ]
  },
  {
   "cell_type": "markdown",
   "metadata": {},
   "source": [
    "## 1 task\n",
    "##### Comments"
   ]
  },
  {
   "cell_type": "code",
   "execution_count": 22,
   "metadata": {},
   "outputs": [],
   "source": [
    "posts_comments = spark.sql('SELECT key, comments.count FROM posts ORDER BY count DESC LIMIT 20')\n",
    "follow_posts_comm = spark.sql('SELECT key, comments.count FROM followers_posts ORDER BY count DESC LIMIT 20')"
   ]
  },
  {
   "cell_type": "code",
   "execution_count": 24,
   "metadata": {},
   "outputs": [],
   "source": [
    "write_to_json(posts_comm, \"task_1\")\n",
    "write_to_json(follow_posts_comm, \"task_1\")"
   ]
  },
  {
   "cell_type": "markdown",
   "metadata": {},
   "source": [
    "##### Likes"
   ]
  },
  {
   "cell_type": "code",
   "execution_count": 25,
   "metadata": {},
   "outputs": [],
   "source": [
    "posts_likes = spark.sql('SELECT key, likes.count FROM posts ORDER BY count DESC LIMIT 20')\n",
    "follow_posts_likes = spark.sql('SELECT key, likes.count FROM followers_posts ORDER BY count DESC LIMIT 20')"
   ]
  },
  {
   "cell_type": "code",
   "execution_count": 27,
   "metadata": {},
   "outputs": [],
   "source": [
    "write_to_json(posts_likes, \"task_1\")\n",
    "write_to_json(follow_posts_likes, \"task_1\")"
   ]
  },
  {
   "cell_type": "markdown",
   "metadata": {},
   "source": [
    "#### Reposts"
   ]
  },
  {
   "cell_type": "code",
   "execution_count": 28,
   "metadata": {},
   "outputs": [],
   "source": [
    "posts_rep = spark.sql('SELECT key, reposts.count FROM posts ORDER BY count DESC LIMIT 20')\n",
    "follow_posts_rep = spark.sql('SELECT key, reposts.count FROM followers_posts ORDER BY count DESC LIMIT 20')"
   ]
  },
  {
   "cell_type": "code",
   "execution_count": 30,
   "metadata": {},
   "outputs": [],
   "source": [
    "write_to_json(posts_rep, \"task_1\")\n",
    "write_to_json(follow_posts_rep, \"task_1\")"
   ]
  },
  {
   "cell_type": "markdown",
   "metadata": {},
   "source": [
    "## 2 task"
   ]
  },
  {
   "cell_type": "code",
   "execution_count": 35,
   "metadata": {},
   "outputs": [],
   "source": [
    "followers_likes = spark.sql('SELECT likerId, COUNT(*) as number_of_likes FROM followers_posts_likes GROUP BY likerId').sort(desc(\"number_of_likes\")).limit(20)\n",
    "followers_own = spark.sql('SELECT copy_history.owner_id, COUNT(*) as own_count FROM followers_posts GROUP BY copy_history.owner_id').sort(desc(\"own_count\")).limit(20)"
   ]
  },
  {
   "cell_type": "code",
   "execution_count": 36,
   "metadata": {},
   "outputs": [],
   "source": [
    "write_to_json(followers_likes, \"task_2\")\n",
    "write_to_json(followers_own, \"task_2\")"
   ]
  },
  {
   "cell_type": "markdown",
   "metadata": {},
   "source": [
    "## 3 task"
   ]
  },
  {
   "cell_type": "code",
   "execution_count": 37,
   "metadata": {},
   "outputs": [],
   "source": [
    "posts_followers_posts = posts.select('owner_id', col('id').alias('post_id')).join(followers_posts.select(col('owner_id').alias('user_id'), 'copy_history'), posts.owner_id == followers_posts.copy_history.owner_id.getItem(0)).select('post_id', 'user_id').groupby('post_id').agg(collect_set('user_id'))"
   ]
  },
  {
   "cell_type": "code",
   "execution_count": 45,
   "metadata": {},
   "outputs": [],
   "source": [
    "write_to_json(posts_followers_posts, \"task_3\")"
   ]
  },
  {
   "cell_type": "markdown",
   "metadata": {},
   "source": [
    "## 4 task"
   ]
  },
  {
   "cell_type": "code",
   "execution_count": 39,
   "metadata": {},
   "outputs": [],
   "source": [
    "sc = spark.sparkContext\n",
    "emojis = sc.broadcast(emoji.UNICODE_EMOJI)\n",
    "\n",
    "emoji_udf = udf(lambda text: [symb for symb in text if symb in emojis.value], ArrayType(StringType()))\n",
    "\n",
    "posts_text = posts \\\n",
    "    .filter(posts.text != '') \\\n",
    "    .select('id','text') \n",
    "text_emoji = posts_text \\\n",
    "    .select(\"id\", emoji_udf(\"text\").alias(\"emojis\"))"
   ]
  },
  {
   "cell_type": "code",
   "execution_count": 46,
   "metadata": {},
   "outputs": [],
   "source": [
    "write_to_json(text_emoji, \"task_4\")"
   ]
  },
  {
   "cell_type": "markdown",
   "metadata": {},
   "source": [
    "## 5 task"
   ]
  },
  {
   "cell_type": "code",
   "execution_count": 41,
   "metadata": {
    "scrolled": false
   },
   "outputs": [],
   "source": [
    "likes_without_self = followers_posts_likes \\\n",
    "    .filter(followers_posts_likes.ownerId != followers_posts_likes.likerId)\n",
    "likes = likes_without_self.groupBy('likerId').agg(collect_set('ownerId').alias('ownerIdSet')).select(col('likerId').alias('likerUserId'), 'ownerIdSet')\n",
    "\n",
    "final_likes = likes \\\n",
    "    .join(likes_without_self, likes.likerUserId == likes_without_self.ownerId)\n",
    "aggregated_likes = final_likes.withColumn(\"IsFriends\", expr(\"array_contains(ownerIdSet, likerId)\"))\n",
    "\n",
    "friends = aggregated_likes \\\n",
    "    .filter(aggregated_likes.IsFriends == True) \\\n",
    "    .groupBy(col('ownerId').alias('user')).agg(collect_set('likerId').alias('friends'))"
   ]
  },
  {
   "cell_type": "code",
   "execution_count": 47,
   "metadata": {},
   "outputs": [],
   "source": [
    "write_to_json(friends, \"task_5\")"
   ]
  },
  {
   "cell_type": "markdown",
   "metadata": {},
   "source": [
    "## 6 task"
   ]
  },
  {
   "cell_type": "code",
   "execution_count": 48,
   "metadata": {},
   "outputs": [],
   "source": [
    "fans = aggregated_likes \\\n",
    "    .filter(aggregated_likes.IsFriends == False) \\\n",
    "    .groupBy(col('ownerId') \\\n",
    "    .alias('user')) \\\n",
    "    .agg(collect_set('likerId').alias('fans'))"
   ]
  },
  {
   "cell_type": "code",
   "execution_count": 50,
   "metadata": {},
   "outputs": [],
   "source": [
    "write_to_json(fans, \"task_6\")"
   ]
  },
  {
   "cell_type": "code",
   "execution_count": null,
   "metadata": {},
   "outputs": [],
   "source": []
  }
 ],
 "metadata": {
  "kernelspec": {
   "display_name": "Python 3",
   "language": "python",
   "name": "python3"
  },
  "language_info": {
   "codemirror_mode": {
    "name": "ipython",
    "version": 3
   },
   "file_extension": ".py",
   "mimetype": "text/x-python",
   "name": "python",
   "nbconvert_exporter": "python",
   "pygments_lexer": "ipython3",
   "version": "3.7.6"
  }
 },
 "nbformat": 4,
 "nbformat_minor": 4
}
